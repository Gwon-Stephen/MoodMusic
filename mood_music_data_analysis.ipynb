{
 "cells": [
  {
   "cell_type": "code",
   "execution_count": 1,
   "id": "d963cc57-8e90-47c5-ac27-980a83917235",
   "metadata": {},
   "outputs": [],
   "source": [
    "import pandas as pd\n",
    "import numpy as np\n",
    "import os \n",
    "import matplotlib.pyplot as plt\n",
    "import seaborn as sns\n",
    "import scipy.stats as stats\n",
    "sns.set_theme()\n",
    "\n",
    "from sklearn.model_selection import train_test_split\n",
    "from sklearn.metrics import r2_score, mean_squared_error, accuracy_score\n",
    "from sklearn.linear_model import LinearRegression, LogisticRegression\n",
    "from sklearn.ensemble import GradientBoostingRegressor, RandomForestRegressor, RandomForestClassifier, GradientBoostingClassifier\n",
    "from sklearn.tree import DecisionTreeRegressor, DecisionTreeClassifier\n",
    "from sklearn.model_selection import GridSearchCV, cross_val_score"
   ]
  },
  {
   "cell_type": "code",
   "execution_count": 2,
   "id": "17db9b52-a77f-42c7-80cb-631b63812172",
   "metadata": {},
   "outputs": [],
   "source": [
    "filename = os.path.join(os.getcwd(), \"data\", \"songdata.csv\")\n",
    "df = pd.read_csv(filename, header=0)"
   ]
  },
  {
   "cell_type": "markdown",
   "id": "535ee88e-fc70-4a32-bda0-073788348482",
   "metadata": {},
   "source": [
    "# Exploratory Data Analysis"
   ]
  },
  {
   "cell_type": "markdown",
   "id": "08bcc3d5-9200-4c72-b470-cd0fbe26f1e1",
   "metadata": {},
   "source": [
    "## Summary Statistics"
   ]
  },
  {
   "cell_type": "markdown",
   "id": "82c8ec7f-968c-4d41-a811-d9cf08eb6767",
   "metadata": {},
   "source": [
    "Let's take a look our our audio track feature data from Spotify."
   ]
  },
  {
   "cell_type": "code",
   "execution_count": 3,
   "id": "357024be-edff-4cda-ad88-6a18e660d3b2",
   "metadata": {},
   "outputs": [
    {
     "data": {
      "text/html": [
       "<div>\n",
       "<style scoped>\n",
       "    .dataframe tbody tr th:only-of-type {\n",
       "        vertical-align: middle;\n",
       "    }\n",
       "\n",
       "    .dataframe tbody tr th {\n",
       "        vertical-align: top;\n",
       "    }\n",
       "\n",
       "    .dataframe thead th {\n",
       "        text-align: right;\n",
       "    }\n",
       "</style>\n",
       "<table border=\"1\" class=\"dataframe\">\n",
       "  <thead>\n",
       "    <tr style=\"text-align: right;\">\n",
       "      <th></th>\n",
       "      <th>mood</th>\n",
       "      <th>acousticness</th>\n",
       "      <th>danceability</th>\n",
       "      <th>energy</th>\n",
       "      <th>instrumentalness</th>\n",
       "      <th>key</th>\n",
       "      <th>mode</th>\n",
       "      <th>tempo</th>\n",
       "      <th>valence</th>\n",
       "    </tr>\n",
       "  </thead>\n",
       "  <tbody>\n",
       "    <tr>\n",
       "      <th>0</th>\n",
       "      <td>angry</td>\n",
       "      <td>0.089000</td>\n",
       "      <td>0.533</td>\n",
       "      <td>0.740</td>\n",
       "      <td>0.000003</td>\n",
       "      <td>2</td>\n",
       "      <td>1</td>\n",
       "      <td>89.934</td>\n",
       "      <td>0.465</td>\n",
       "    </tr>\n",
       "    <tr>\n",
       "      <th>1</th>\n",
       "      <td>angry</td>\n",
       "      <td>0.011600</td>\n",
       "      <td>0.557</td>\n",
       "      <td>0.616</td>\n",
       "      <td>0.000000</td>\n",
       "      <td>2</td>\n",
       "      <td>1</td>\n",
       "      <td>86.722</td>\n",
       "      <td>0.431</td>\n",
       "    </tr>\n",
       "    <tr>\n",
       "      <th>2</th>\n",
       "      <td>angry</td>\n",
       "      <td>0.002610</td>\n",
       "      <td>0.520</td>\n",
       "      <td>0.831</td>\n",
       "      <td>0.000000</td>\n",
       "      <td>9</td>\n",
       "      <td>1</td>\n",
       "      <td>160.035</td>\n",
       "      <td>0.677</td>\n",
       "    </tr>\n",
       "    <tr>\n",
       "      <th>3</th>\n",
       "      <td>angry</td>\n",
       "      <td>0.363000</td>\n",
       "      <td>0.386</td>\n",
       "      <td>0.592</td>\n",
       "      <td>0.000000</td>\n",
       "      <td>11</td>\n",
       "      <td>1</td>\n",
       "      <td>146.879</td>\n",
       "      <td>0.161</td>\n",
       "    </tr>\n",
       "    <tr>\n",
       "      <th>4</th>\n",
       "      <td>angry</td>\n",
       "      <td>0.000531</td>\n",
       "      <td>0.510</td>\n",
       "      <td>0.833</td>\n",
       "      <td>0.000000</td>\n",
       "      <td>8</td>\n",
       "      <td>1</td>\n",
       "      <td>176.846</td>\n",
       "      <td>0.510</td>\n",
       "    </tr>\n",
       "  </tbody>\n",
       "</table>\n",
       "</div>"
      ],
      "text/plain": [
       "    mood  acousticness  danceability  energy  instrumentalness  key  mode  \\\n",
       "0  angry      0.089000         0.533   0.740          0.000003    2     1   \n",
       "1  angry      0.011600         0.557   0.616          0.000000    2     1   \n",
       "2  angry      0.002610         0.520   0.831          0.000000    9     1   \n",
       "3  angry      0.363000         0.386   0.592          0.000000   11     1   \n",
       "4  angry      0.000531         0.510   0.833          0.000000    8     1   \n",
       "\n",
       "     tempo  valence  \n",
       "0   89.934    0.465  \n",
       "1   86.722    0.431  \n",
       "2  160.035    0.677  \n",
       "3  146.879    0.161  \n",
       "4  176.846    0.510  "
      ]
     },
     "execution_count": 3,
     "metadata": {},
     "output_type": "execute_result"
    }
   ],
   "source": [
    "df.head()"
   ]
  },
  {
   "cell_type": "code",
   "execution_count": 4,
   "id": "3b096b3b-7068-45b8-84a7-8dd76957824a",
   "metadata": {},
   "outputs": [
    {
     "name": "stdout",
     "output_type": "stream",
     "text": [
      "number of rows: 425\n",
      "number of columns: 9\n"
     ]
    }
   ],
   "source": [
    "print(\"number of rows:\", df.shape[0])\n",
    "print(\"number of columns:\", df.shape[1])"
   ]
  },
  {
   "cell_type": "code",
   "execution_count": 5,
   "id": "31ef0dee-7ec0-4ae7-b6a9-3436accbf406",
   "metadata": {},
   "outputs": [
    {
     "data": {
      "text/html": [
       "<div>\n",
       "<style scoped>\n",
       "    .dataframe tbody tr th:only-of-type {\n",
       "        vertical-align: middle;\n",
       "    }\n",
       "\n",
       "    .dataframe tbody tr th {\n",
       "        vertical-align: top;\n",
       "    }\n",
       "\n",
       "    .dataframe thead th {\n",
       "        text-align: right;\n",
       "    }\n",
       "</style>\n",
       "<table border=\"1\" class=\"dataframe\">\n",
       "  <thead>\n",
       "    <tr style=\"text-align: right;\">\n",
       "      <th></th>\n",
       "      <th>mood</th>\n",
       "      <th>acousticness</th>\n",
       "      <th>danceability</th>\n",
       "      <th>energy</th>\n",
       "      <th>instrumentalness</th>\n",
       "      <th>key</th>\n",
       "      <th>mode</th>\n",
       "      <th>tempo</th>\n",
       "      <th>valence</th>\n",
       "    </tr>\n",
       "  </thead>\n",
       "  <tbody>\n",
       "    <tr>\n",
       "      <th>count</th>\n",
       "      <td>425</td>\n",
       "      <td>425.000000</td>\n",
       "      <td>425.000000</td>\n",
       "      <td>425.000000</td>\n",
       "      <td>425.000000</td>\n",
       "      <td>425.000000</td>\n",
       "      <td>425.000000</td>\n",
       "      <td>425.000000</td>\n",
       "      <td>425.000000</td>\n",
       "    </tr>\n",
       "    <tr>\n",
       "      <th>unique</th>\n",
       "      <td>4</td>\n",
       "      <td>NaN</td>\n",
       "      <td>NaN</td>\n",
       "      <td>NaN</td>\n",
       "      <td>NaN</td>\n",
       "      <td>NaN</td>\n",
       "      <td>NaN</td>\n",
       "      <td>NaN</td>\n",
       "      <td>NaN</td>\n",
       "    </tr>\n",
       "    <tr>\n",
       "      <th>top</th>\n",
       "      <td>neutral</td>\n",
       "      <td>NaN</td>\n",
       "      <td>NaN</td>\n",
       "      <td>NaN</td>\n",
       "      <td>NaN</td>\n",
       "      <td>NaN</td>\n",
       "      <td>NaN</td>\n",
       "      <td>NaN</td>\n",
       "      <td>NaN</td>\n",
       "    </tr>\n",
       "    <tr>\n",
       "      <th>freq</th>\n",
       "      <td>125</td>\n",
       "      <td>NaN</td>\n",
       "      <td>NaN</td>\n",
       "      <td>NaN</td>\n",
       "      <td>NaN</td>\n",
       "      <td>NaN</td>\n",
       "      <td>NaN</td>\n",
       "      <td>NaN</td>\n",
       "      <td>NaN</td>\n",
       "    </tr>\n",
       "    <tr>\n",
       "      <th>mean</th>\n",
       "      <td>NaN</td>\n",
       "      <td>0.336613</td>\n",
       "      <td>0.624927</td>\n",
       "      <td>0.574402</td>\n",
       "      <td>0.082204</td>\n",
       "      <td>5.312941</td>\n",
       "      <td>0.705882</td>\n",
       "      <td>120.602445</td>\n",
       "      <td>0.473136</td>\n",
       "    </tr>\n",
       "    <tr>\n",
       "      <th>std</th>\n",
       "      <td>NaN</td>\n",
       "      <td>0.289573</td>\n",
       "      <td>0.148146</td>\n",
       "      <td>0.186280</td>\n",
       "      <td>0.210314</td>\n",
       "      <td>3.490343</td>\n",
       "      <td>0.456182</td>\n",
       "      <td>26.233189</td>\n",
       "      <td>0.256249</td>\n",
       "    </tr>\n",
       "    <tr>\n",
       "      <th>min</th>\n",
       "      <td>NaN</td>\n",
       "      <td>0.000099</td>\n",
       "      <td>0.197000</td>\n",
       "      <td>0.048500</td>\n",
       "      <td>0.000000</td>\n",
       "      <td>0.000000</td>\n",
       "      <td>0.000000</td>\n",
       "      <td>54.759000</td>\n",
       "      <td>0.031200</td>\n",
       "    </tr>\n",
       "    <tr>\n",
       "      <th>25%</th>\n",
       "      <td>NaN</td>\n",
       "      <td>0.079800</td>\n",
       "      <td>0.518000</td>\n",
       "      <td>0.457000</td>\n",
       "      <td>0.000000</td>\n",
       "      <td>2.000000</td>\n",
       "      <td>0.000000</td>\n",
       "      <td>104.011000</td>\n",
       "      <td>0.249000</td>\n",
       "    </tr>\n",
       "    <tr>\n",
       "      <th>50%</th>\n",
       "      <td>NaN</td>\n",
       "      <td>0.268000</td>\n",
       "      <td>0.647000</td>\n",
       "      <td>0.583000</td>\n",
       "      <td>0.000035</td>\n",
       "      <td>6.000000</td>\n",
       "      <td>1.000000</td>\n",
       "      <td>119.943000</td>\n",
       "      <td>0.469000</td>\n",
       "    </tr>\n",
       "    <tr>\n",
       "      <th>75%</th>\n",
       "      <td>NaN</td>\n",
       "      <td>0.547000</td>\n",
       "      <td>0.733000</td>\n",
       "      <td>0.702000</td>\n",
       "      <td>0.011800</td>\n",
       "      <td>8.000000</td>\n",
       "      <td>1.000000</td>\n",
       "      <td>136.896000</td>\n",
       "      <td>0.674000</td>\n",
       "    </tr>\n",
       "    <tr>\n",
       "      <th>max</th>\n",
       "      <td>NaN</td>\n",
       "      <td>0.970000</td>\n",
       "      <td>0.938000</td>\n",
       "      <td>0.951000</td>\n",
       "      <td>0.956000</td>\n",
       "      <td>11.000000</td>\n",
       "      <td>1.000000</td>\n",
       "      <td>201.974000</td>\n",
       "      <td>0.977000</td>\n",
       "    </tr>\n",
       "  </tbody>\n",
       "</table>\n",
       "</div>"
      ],
      "text/plain": [
       "           mood  acousticness  danceability      energy  instrumentalness  \\\n",
       "count       425    425.000000    425.000000  425.000000        425.000000   \n",
       "unique        4           NaN           NaN         NaN               NaN   \n",
       "top     neutral           NaN           NaN         NaN               NaN   \n",
       "freq        125           NaN           NaN         NaN               NaN   \n",
       "mean        NaN      0.336613      0.624927    0.574402          0.082204   \n",
       "std         NaN      0.289573      0.148146    0.186280          0.210314   \n",
       "min         NaN      0.000099      0.197000    0.048500          0.000000   \n",
       "25%         NaN      0.079800      0.518000    0.457000          0.000000   \n",
       "50%         NaN      0.268000      0.647000    0.583000          0.000035   \n",
       "75%         NaN      0.547000      0.733000    0.702000          0.011800   \n",
       "max         NaN      0.970000      0.938000    0.951000          0.956000   \n",
       "\n",
       "               key        mode       tempo     valence  \n",
       "count   425.000000  425.000000  425.000000  425.000000  \n",
       "unique         NaN         NaN         NaN         NaN  \n",
       "top            NaN         NaN         NaN         NaN  \n",
       "freq           NaN         NaN         NaN         NaN  \n",
       "mean      5.312941    0.705882  120.602445    0.473136  \n",
       "std       3.490343    0.456182   26.233189    0.256249  \n",
       "min       0.000000    0.000000   54.759000    0.031200  \n",
       "25%       2.000000    0.000000  104.011000    0.249000  \n",
       "50%       6.000000    1.000000  119.943000    0.469000  \n",
       "75%       8.000000    1.000000  136.896000    0.674000  \n",
       "max      11.000000    1.000000  201.974000    0.977000  "
      ]
     },
     "execution_count": 5,
     "metadata": {},
     "output_type": "execute_result"
    }
   ],
   "source": [
    "df.describe(include=\"all\")"
   ]
  },
  {
   "cell_type": "markdown",
   "id": "5bdd886e-8d9e-44f8-919e-2a59309e1e4c",
   "metadata": {},
   "source": [
    "We want to predict the mood, so we'll set the \"mood\" column as the predicting label. We can see that the mood classes include \"neutral\", \"angry\", \"happy\", and \"sad\"."
   ]
  },
  {
   "cell_type": "code",
   "execution_count": 6,
   "id": "3dc3f9d3-e06c-48e7-aded-b0c2bc8705e3",
   "metadata": {},
   "outputs": [],
   "source": [
    "label = \"mood\""
   ]
  },
  {
   "cell_type": "code",
   "execution_count": 7,
   "id": "be9feab4-98d9-4bfd-94d5-43cb3eafc61a",
   "metadata": {},
   "outputs": [
    {
     "data": {
      "text/plain": [
       "neutral    125\n",
       "angry      100\n",
       "happy      100\n",
       "sad        100\n",
       "Name: mood, dtype: int64"
      ]
     },
     "execution_count": 7,
     "metadata": {},
     "output_type": "execute_result"
    }
   ],
   "source": [
    "df[label].value_counts()"
   ]
  },
  {
   "cell_type": "code",
   "execution_count": 8,
   "id": "f21d03ce-27cd-4831-ac10-54379a7abc92",
   "metadata": {},
   "outputs": [
    {
     "name": "stdout",
     "output_type": "stream",
     "text": [
      "acousticness       mood  acousticness\n",
      "0    angry        0.0609\n",
      "1    happy        0.2015\n",
      "2  neutral        0.3860\n",
      "3      sad        0.5840\n",
      "danceability       mood  danceability\n",
      "0    angry        0.6140\n",
      "1    happy        0.7260\n",
      "2  neutral        0.6910\n",
      "3      sad        0.5035\n",
      "energy       mood  energy\n",
      "0    angry  0.6760\n",
      "1    happy  0.6525\n",
      "2  neutral  0.5560\n",
      "3      sad  0.4380\n",
      "instrumentalness       mood  instrumentalness\n",
      "0    angry          0.000000\n",
      "1    happy          0.000004\n",
      "2  neutral          0.017300\n",
      "3      sad          0.000126\n",
      "key       mood  key\n",
      "0    angry  6.0\n",
      "1    happy  6.0\n",
      "2  neutral  5.0\n",
      "3      sad  5.0\n",
      "mode       mood  mode\n",
      "0    angry   1.0\n",
      "1    happy   1.0\n",
      "2  neutral   1.0\n",
      "3      sad   1.0\n",
      "tempo       mood     tempo\n",
      "0    angry  131.0125\n",
      "1    happy  119.9555\n",
      "2  neutral  115.9390\n",
      "3      sad  118.7530\n",
      "valence       mood  valence\n",
      "0    angry   0.5445\n",
      "1    happy   0.6895\n",
      "2  neutral   0.3270\n",
      "3      sad   0.3070\n"
     ]
    }
   ],
   "source": [
    "for col in df.drop(columns=[label], axis=1).columns:\n",
    "    print(col, df.groupby(label, as_index=False)[col].median())"
   ]
  },
  {
   "cell_type": "code",
   "execution_count": 9,
   "id": "a0661e05-b12c-4b55-9141-e69c00d391fe",
   "metadata": {},
   "outputs": [
    {
     "name": "stdout",
     "output_type": "stream",
     "text": [
      "acousticness       mood  acousticness\n",
      "0    angry      0.000338\n",
      "1    happy      0.001620\n",
      "2  neutral      0.011700\n",
      "3      sad      0.000099\n",
      "danceability       mood  danceability\n",
      "0    angry         0.208\n",
      "1    happy         0.329\n",
      "2  neutral         0.292\n",
      "3      sad         0.197\n",
      "energy       mood  energy\n",
      "0    angry  0.2580\n",
      "1    happy  0.3540\n",
      "2  neutral  0.1520\n",
      "3      sad  0.0485\n",
      "instrumentalness       mood  instrumentalness\n",
      "0    angry               0.0\n",
      "1    happy               0.0\n",
      "2  neutral               0.0\n",
      "3      sad               0.0\n",
      "key       mood  key\n",
      "0    angry    0\n",
      "1    happy    0\n",
      "2  neutral    0\n",
      "3      sad    0\n",
      "mode       mood  mode\n",
      "0    angry     0\n",
      "1    happy     0\n",
      "2  neutral     0\n",
      "3      sad     0\n",
      "tempo       mood   tempo\n",
      "0    angry  70.031\n",
      "1    happy  75.005\n",
      "2  neutral  54.759\n",
      "3      sad  70.743\n",
      "valence       mood  valence\n",
      "0    angry   0.1330\n",
      "1    happy   0.2250\n",
      "2  neutral   0.0312\n",
      "3      sad   0.0381\n"
     ]
    }
   ],
   "source": [
    "for col in df.drop(columns=[label], axis=1).columns:\n",
    "    print(col, df.groupby(label, as_index=False)[col].min())"
   ]
  },
  {
   "cell_type": "code",
   "execution_count": 10,
   "id": "e3ec9b32-c4b4-43ed-bb20-f68d7a14b872",
   "metadata": {},
   "outputs": [
    {
     "name": "stdout",
     "output_type": "stream",
     "text": [
      "acousticness       mood  acousticness\n",
      "0    angry         0.778\n",
      "1    happy         0.765\n",
      "2  neutral         0.909\n",
      "3      sad         0.970\n",
      "danceability       mood  danceability\n",
      "0    angry         0.938\n",
      "1    happy         0.917\n",
      "2  neutral         0.921\n",
      "3      sad         0.840\n",
      "energy       mood  energy\n",
      "0    angry   0.951\n",
      "1    happy   0.924\n",
      "2  neutral   0.856\n",
      "3      sad   0.950\n",
      "instrumentalness       mood  instrumentalness\n",
      "0    angry             0.842\n",
      "1    happy             0.739\n",
      "2  neutral             0.956\n",
      "3      sad             0.912\n",
      "key       mood  key\n",
      "0    angry   11\n",
      "1    happy   11\n",
      "2  neutral   11\n",
      "3      sad   11\n",
      "mode       mood  mode\n",
      "0    angry     1\n",
      "1    happy     1\n",
      "2  neutral     1\n",
      "3      sad     1\n",
      "tempo       mood    tempo\n",
      "0    angry  182.269\n",
      "1    happy  201.974\n",
      "2  neutral  196.018\n",
      "3      sad  180.917\n",
      "valence       mood  valence\n",
      "0    angry    0.904\n",
      "1    happy    0.977\n",
      "2  neutral    0.968\n",
      "3      sad    0.868\n"
     ]
    }
   ],
   "source": [
    "for col in df.drop(columns=[label], axis=1).columns:\n",
    "    print(col, df.groupby(label, as_index=False)[col].max())"
   ]
  },
  {
   "cell_type": "markdown",
   "id": "3ba77281-649d-4c5e-be46-2f14a52917d9",
   "metadata": {},
   "source": [
    "## Feature Importances"
   ]
  },
  {
   "cell_type": "markdown",
   "id": "7f9e3f82-6bc9-4b1f-9f23-c457f61f767c",
   "metadata": {},
   "source": [
    "Now we want to analyze the feature importances for our data."
   ]
  },
  {
   "cell_type": "code",
   "execution_count": 11,
   "id": "86a8d65a-3322-4652-82fe-bb37da9ec8ab",
   "metadata": {},
   "outputs": [],
   "source": [
    "def getFeatureImportances(df_import, top_num):\n",
    "    # Create labeled examples\n",
    "    y = df_import[label]\n",
    "    X = df_import.drop(columns=label, axis=1)\n",
    "\n",
    "    # Split examples into training and test sets\n",
    "    X_train, X_test, y_train, y_test = train_test_split(X, y, test_size=0.20, random_state=123)\n",
    "    \n",
    "    # Perform model selection\n",
    "    param_grid = {'max_depth':list(range(5,9)), 'min_samples_leaf':list(range(25, 51))}\n",
    "    model = DecisionTreeClassifier()\n",
    "    grid = GridSearchCV(model, param_grid, cv=3, scoring='recall_weighted')\n",
    "    grid_search = grid.fit(X_train, y_train)\n",
    "    best_params = {'max_depth':grid_search.best_estimator_.max_depth, 'min_samples_leaf':grid_search.best_estimator_.min_samples_leaf}\n",
    "    print('The best params for the model is :', best_params)\n",
    "    rec = grid_search.best_score_\n",
    "    print('Recall for the best model is : {:.2f}'.format(rec))\n",
    "\n",
    "    # Train the model\n",
    "    feature_select_model = DecisionTreeClassifier(max_depth = best_params['max_depth'], min_samples_leaf = best_params['min_samples_leaf'])\n",
    "    feature_select_model.fit(X_train, y_train)\n",
    "\n",
    "    # Plot feature importances\n",
    "    feature_imp = feature_select_model.feature_importances_\n",
    "    df_features = pd.DataFrame({'name': X_train.columns.values, 'imp': feature_imp})\n",
    "    df_sorted = df_features.sort_values('imp', ascending=False)\n",
    "    top = list(df_sorted.iloc[0:top_num]['name'])\n",
    "    fig, ax = plt.subplots()\n",
    "    ax.bar(np.arange(top_num), sorted(feature_select_model.feature_importances_, reverse=True)[:top_num], width = 0.35)\n",
    "    ax.set_xticks(np.arange(top_num))\n",
    "    ax.set_xticklabels(top, rotation = 90)\n",
    "    plt.title('Feature importance from DT')\n",
    "    ax.set_ylabel('Normalized importance')\n",
    "    return df_sorted.head(top_num)"
   ]
  },
  {
   "cell_type": "code",
   "execution_count": 12,
   "id": "07621823-1ad9-47de-bec2-79d906ce26dc",
   "metadata": {},
   "outputs": [
    {
     "name": "stdout",
     "output_type": "stream",
     "text": [
      "The best params for the model is : {'max_depth': 5, 'min_samples_leaf': 25}\n",
      "Recall for the best model is : 0.56\n"
     ]
    },
    {
     "data": {
      "text/html": [
       "<div>\n",
       "<style scoped>\n",
       "    .dataframe tbody tr th:only-of-type {\n",
       "        vertical-align: middle;\n",
       "    }\n",
       "\n",
       "    .dataframe tbody tr th {\n",
       "        vertical-align: top;\n",
       "    }\n",
       "\n",
       "    .dataframe thead th {\n",
       "        text-align: right;\n",
       "    }\n",
       "</style>\n",
       "<table border=\"1\" class=\"dataframe\">\n",
       "  <thead>\n",
       "    <tr style=\"text-align: right;\">\n",
       "      <th></th>\n",
       "      <th>name</th>\n",
       "      <th>imp</th>\n",
       "    </tr>\n",
       "  </thead>\n",
       "  <tbody>\n",
       "    <tr>\n",
       "      <th>3</th>\n",
       "      <td>instrumentalness</td>\n",
       "      <td>0.309372</td>\n",
       "    </tr>\n",
       "    <tr>\n",
       "      <th>1</th>\n",
       "      <td>danceability</td>\n",
       "      <td>0.301085</td>\n",
       "    </tr>\n",
       "    <tr>\n",
       "      <th>0</th>\n",
       "      <td>acousticness</td>\n",
       "      <td>0.189292</td>\n",
       "    </tr>\n",
       "    <tr>\n",
       "      <th>7</th>\n",
       "      <td>valence</td>\n",
       "      <td>0.130704</td>\n",
       "    </tr>\n",
       "    <tr>\n",
       "      <th>2</th>\n",
       "      <td>energy</td>\n",
       "      <td>0.043316</td>\n",
       "    </tr>\n",
       "    <tr>\n",
       "      <th>5</th>\n",
       "      <td>mode</td>\n",
       "      <td>0.017887</td>\n",
       "    </tr>\n",
       "    <tr>\n",
       "      <th>4</th>\n",
       "      <td>key</td>\n",
       "      <td>0.008342</td>\n",
       "    </tr>\n",
       "    <tr>\n",
       "      <th>6</th>\n",
       "      <td>tempo</td>\n",
       "      <td>0.000000</td>\n",
       "    </tr>\n",
       "  </tbody>\n",
       "</table>\n",
       "</div>"
      ],
      "text/plain": [
       "               name       imp\n",
       "3  instrumentalness  0.309372\n",
       "1      danceability  0.301085\n",
       "0      acousticness  0.189292\n",
       "7           valence  0.130704\n",
       "2            energy  0.043316\n",
       "5              mode  0.017887\n",
       "4               key  0.008342\n",
       "6             tempo  0.000000"
      ]
     },
     "execution_count": 12,
     "metadata": {},
     "output_type": "execute_result"
    },
    {
     "data": {
      "image/png": "[encoded data removed]",
      "text/plain": [
       "<Figure size 432x288 with 1 Axes>"
      ]
     },
     "metadata": {},
     "output_type": "display_data"
    }
   ],
   "source": [
    "df_imp = getFeatureImportances(df, 8)\n",
    "df_imp"
   ]
  },
  {
   "cell_type": "markdown",
   "id": "61916797-016d-4554-ab7a-fefa32a316bc",
   "metadata": {},
   "source": [
    "It seems that overall, instrumentalness, danceability, acousticness, valence, and energy are the most important features when predicting the mood of a song."
   ]
  },
  {
   "cell_type": "markdown",
   "id": "8cec872f-0045-407e-b939-755eb0899dfe",
   "metadata": {},
   "source": [
    "Now let's analyze the feature importances by mood."
   ]
  },
  {
   "cell_type": "markdown",
   "id": "1f8ccadc-3d11-4653-8b4d-99d5957a0598",
   "metadata": {},
   "source": [
    "And now we calculate the feature importances for the four different moods."
   ]
  },
  {
   "cell_type": "code",
   "execution_count": 13,
   "id": "497a40e0-bee7-4eb1-a4eb-99400e14594a",
   "metadata": {},
   "outputs": [],
   "source": [
    "def getFeatureImportancesByClass(df_orig, top_num, className, includeSamples=False):\n",
    "    df_class = df_orig.copy()\n",
    "    df_class[label] = np.where(df_class[label] == className, className, \"not \" + className)\n",
    "    return getFeatureImportances(df_class, top_num)"
   ]
  },
  {
   "cell_type": "markdown",
   "id": "fba5b89d-1f12-41f8-9f6f-edeab7029999",
   "metadata": {},
   "source": [
    "### Angry Feature Importances"
   ]
  },
  {
   "cell_type": "code",
   "execution_count": 14,
   "id": "4ed4b005-199b-4c83-b22e-d9450a861d4f",
   "metadata": {},
   "outputs": [
    {
     "name": "stdout",
     "output_type": "stream",
     "text": [
      "The best params for the model is : {'max_depth': 5, 'min_samples_leaf': 43}\n",
      "Recall for the best model is : 0.77\n"
     ]
    },
    {
     "data": {
      "text/html": [
       "<div>\n",
       "<style scoped>\n",
       "    .dataframe tbody tr th:only-of-type {\n",
       "        vertical-align: middle;\n",
       "    }\n",
       "\n",
       "    .dataframe tbody tr th {\n",
       "        vertical-align: top;\n",
       "    }\n",
       "\n",
       "    .dataframe thead th {\n",
       "        text-align: right;\n",
       "    }\n",
       "</style>\n",
       "<table border=\"1\" class=\"dataframe\">\n",
       "  <thead>\n",
       "    <tr style=\"text-align: right;\">\n",
       "      <th></th>\n",
       "      <th>name</th>\n",
       "      <th>imp</th>\n",
       "    </tr>\n",
       "  </thead>\n",
       "  <tbody>\n",
       "    <tr>\n",
       "      <th>0</th>\n",
       "      <td>acousticness</td>\n",
       "      <td>0.601216</td>\n",
       "    </tr>\n",
       "    <tr>\n",
       "      <th>3</th>\n",
       "      <td>instrumentalness</td>\n",
       "      <td>0.378204</td>\n",
       "    </tr>\n",
       "    <tr>\n",
       "      <th>4</th>\n",
       "      <td>key</td>\n",
       "      <td>0.016960</td>\n",
       "    </tr>\n",
       "    <tr>\n",
       "      <th>7</th>\n",
       "      <td>valence</td>\n",
       "      <td>0.003620</td>\n",
       "    </tr>\n",
       "    <tr>\n",
       "      <th>1</th>\n",
       "      <td>danceability</td>\n",
       "      <td>0.000000</td>\n",
       "    </tr>\n",
       "    <tr>\n",
       "      <th>2</th>\n",
       "      <td>energy</td>\n",
       "      <td>0.000000</td>\n",
       "    </tr>\n",
       "    <tr>\n",
       "      <th>5</th>\n",
       "      <td>mode</td>\n",
       "      <td>0.000000</td>\n",
       "    </tr>\n",
       "    <tr>\n",
       "      <th>6</th>\n",
       "      <td>tempo</td>\n",
       "      <td>0.000000</td>\n",
       "    </tr>\n",
       "  </tbody>\n",
       "</table>\n",
       "</div>"
      ],
      "text/plain": [
       "               name       imp\n",
       "0      acousticness  0.601216\n",
       "3  instrumentalness  0.378204\n",
       "4               key  0.016960\n",
       "7           valence  0.003620\n",
       "1      danceability  0.000000\n",
       "2            energy  0.000000\n",
       "5              mode  0.000000\n",
       "6             tempo  0.000000"
      ]
     },
     "execution_count": 14,
     "metadata": {},
     "output_type": "execute_result"
    },
    {
     "data": {
      "image/png": "[encoded data removed]",
      "text/plain": [
       "<Figure size 432x288 with 1 Axes>"
      ]
     },
     "metadata": {},
     "output_type": "display_data"
    }
   ],
   "source": [
    "df_imp = getFeatureImportancesByClass(df, 8, \"angry\")\n",
    "df_imp"
   ]
  },
  {
   "cell_type": "markdown",
   "id": "a1411273-fc92-4e06-aa6d-e0e1a81531a1",
   "metadata": {},
   "source": [
    "### Neutral Feature Importances"
   ]
  },
  {
   "cell_type": "code",
   "execution_count": 15,
   "id": "4030a97b-56c8-44a8-914e-e969673810d7",
   "metadata": {},
   "outputs": [
    {
     "name": "stdout",
     "output_type": "stream",
     "text": [
      "The best params for the model is : {'max_depth': 5, 'min_samples_leaf': 32}\n",
      "Recall for the best model is : 0.79\n"
     ]
    },
    {
     "data": {
      "text/html": [
       "<div>\n",
       "<style scoped>\n",
       "    .dataframe tbody tr th:only-of-type {\n",
       "        vertical-align: middle;\n",
       "    }\n",
       "\n",
       "    .dataframe tbody tr th {\n",
       "        vertical-align: top;\n",
       "    }\n",
       "\n",
       "    .dataframe thead th {\n",
       "        text-align: right;\n",
       "    }\n",
       "</style>\n",
       "<table border=\"1\" class=\"dataframe\">\n",
       "  <thead>\n",
       "    <tr style=\"text-align: right;\">\n",
       "      <th></th>\n",
       "      <th>name</th>\n",
       "      <th>imp</th>\n",
       "    </tr>\n",
       "  </thead>\n",
       "  <tbody>\n",
       "    <tr>\n",
       "      <th>3</th>\n",
       "      <td>instrumentalness</td>\n",
       "      <td>0.728142</td>\n",
       "    </tr>\n",
       "    <tr>\n",
       "      <th>1</th>\n",
       "      <td>danceability</td>\n",
       "      <td>0.148093</td>\n",
       "    </tr>\n",
       "    <tr>\n",
       "      <th>7</th>\n",
       "      <td>valence</td>\n",
       "      <td>0.081384</td>\n",
       "    </tr>\n",
       "    <tr>\n",
       "      <th>6</th>\n",
       "      <td>tempo</td>\n",
       "      <td>0.035921</td>\n",
       "    </tr>\n",
       "    <tr>\n",
       "      <th>2</th>\n",
       "      <td>energy</td>\n",
       "      <td>0.006460</td>\n",
       "    </tr>\n",
       "    <tr>\n",
       "      <th>0</th>\n",
       "      <td>acousticness</td>\n",
       "      <td>0.000000</td>\n",
       "    </tr>\n",
       "    <tr>\n",
       "      <th>4</th>\n",
       "      <td>key</td>\n",
       "      <td>0.000000</td>\n",
       "    </tr>\n",
       "    <tr>\n",
       "      <th>5</th>\n",
       "      <td>mode</td>\n",
       "      <td>0.000000</td>\n",
       "    </tr>\n",
       "  </tbody>\n",
       "</table>\n",
       "</div>"
      ],
      "text/plain": [
       "               name       imp\n",
       "3  instrumentalness  0.728142\n",
       "1      danceability  0.148093\n",
       "7           valence  0.081384\n",
       "6             tempo  0.035921\n",
       "2            energy  0.006460\n",
       "0      acousticness  0.000000\n",
       "4               key  0.000000\n",
       "5              mode  0.000000"
      ]
     },
     "execution_count": 15,
     "metadata": {},
     "output_type": "execute_result"
    },
    {
     "data": {
      "image/png": "[encoded data removed]",
      "text/plain": [
       "<Figure size 432x288 with 1 Axes>"
      ]
     },
     "metadata": {},
     "output_type": "display_data"
    }
   ],
   "source": [
    "getFeatureImportancesByClass(df, 8, \"neutral\")"
   ]
  },
  {
   "cell_type": "markdown",
   "id": "3e749de8-d005-49c9-b28c-6a771a7e796d",
   "metadata": {},
   "source": [
    "### Happy Feature Importances"
   ]
  },
  {
   "cell_type": "code",
   "execution_count": 16,
   "id": "8aa715f5-c5cf-4428-954a-2efce5070233",
   "metadata": {},
   "outputs": [
    {
     "name": "stdout",
     "output_type": "stream",
     "text": [
      "The best params for the model is : {'max_depth': 5, 'min_samples_leaf': 26}\n",
      "Recall for the best model is : 0.79\n"
     ]
    },
    {
     "data": {
      "text/html": [
       "<div>\n",
       "<style scoped>\n",
       "    .dataframe tbody tr th:only-of-type {\n",
       "        vertical-align: middle;\n",
       "    }\n",
       "\n",
       "    .dataframe tbody tr th {\n",
       "        vertical-align: top;\n",
       "    }\n",
       "\n",
       "    .dataframe thead th {\n",
       "        text-align: right;\n",
       "    }\n",
       "</style>\n",
       "<table border=\"1\" class=\"dataframe\">\n",
       "  <thead>\n",
       "    <tr style=\"text-align: right;\">\n",
       "      <th></th>\n",
       "      <th>name</th>\n",
       "      <th>imp</th>\n",
       "    </tr>\n",
       "  </thead>\n",
       "  <tbody>\n",
       "    <tr>\n",
       "      <th>7</th>\n",
       "      <td>valence</td>\n",
       "      <td>0.812921</td>\n",
       "    </tr>\n",
       "    <tr>\n",
       "      <th>1</th>\n",
       "      <td>danceability</td>\n",
       "      <td>0.162031</td>\n",
       "    </tr>\n",
       "    <tr>\n",
       "      <th>2</th>\n",
       "      <td>energy</td>\n",
       "      <td>0.017676</td>\n",
       "    </tr>\n",
       "    <tr>\n",
       "      <th>0</th>\n",
       "      <td>acousticness</td>\n",
       "      <td>0.007372</td>\n",
       "    </tr>\n",
       "    <tr>\n",
       "      <th>3</th>\n",
       "      <td>instrumentalness</td>\n",
       "      <td>0.000000</td>\n",
       "    </tr>\n",
       "    <tr>\n",
       "      <th>4</th>\n",
       "      <td>key</td>\n",
       "      <td>0.000000</td>\n",
       "    </tr>\n",
       "    <tr>\n",
       "      <th>5</th>\n",
       "      <td>mode</td>\n",
       "      <td>0.000000</td>\n",
       "    </tr>\n",
       "    <tr>\n",
       "      <th>6</th>\n",
       "      <td>tempo</td>\n",
       "      <td>0.000000</td>\n",
       "    </tr>\n",
       "  </tbody>\n",
       "</table>\n",
       "</div>"
      ],
      "text/plain": [
       "               name       imp\n",
       "7           valence  0.812921\n",
       "1      danceability  0.162031\n",
       "2            energy  0.017676\n",
       "0      acousticness  0.007372\n",
       "3  instrumentalness  0.000000\n",
       "4               key  0.000000\n",
       "5              mode  0.000000\n",
       "6             tempo  0.000000"
      ]
     },
     "execution_count": 16,
     "metadata": {},
     "output_type": "execute_result"
    },
    {
     "data": {
      "image/png": "[encoded data removed]",
      "text/plain": [
       "<Figure size 432x288 with 1 Axes>"
      ]
     },
     "metadata": {},
     "output_type": "display_data"
    }
   ],
   "source": [
    "getFeatureImportancesByClass(df, 8, \"happy\")"
   ]
  },
  {
   "cell_type": "markdown",
   "id": "4eb53cee-c33c-4b90-929b-58de1ffbadc9",
   "metadata": {},
   "source": [
    "### Sad Feature Importances"
   ]
  },
  {
   "cell_type": "code",
   "execution_count": 17,
   "id": "8b89cb7f-efde-44fd-be05-410d30d747dd",
   "metadata": {},
   "outputs": [
    {
     "name": "stdout",
     "output_type": "stream",
     "text": [
      "The best params for the model is : {'max_depth': 5, 'min_samples_leaf': 35}\n",
      "Recall for the best model is : 0.83\n"
     ]
    },
    {
     "data": {
      "text/html": [
       "<div>\n",
       "<style scoped>\n",
       "    .dataframe tbody tr th:only-of-type {\n",
       "        vertical-align: middle;\n",
       "    }\n",
       "\n",
       "    .dataframe tbody tr th {\n",
       "        vertical-align: top;\n",
       "    }\n",
       "\n",
       "    .dataframe thead th {\n",
       "        text-align: right;\n",
       "    }\n",
       "</style>\n",
       "<table border=\"1\" class=\"dataframe\">\n",
       "  <thead>\n",
       "    <tr style=\"text-align: right;\">\n",
       "      <th></th>\n",
       "      <th>name</th>\n",
       "      <th>imp</th>\n",
       "    </tr>\n",
       "  </thead>\n",
       "  <tbody>\n",
       "    <tr>\n",
       "      <th>0</th>\n",
       "      <td>acousticness</td>\n",
       "      <td>0.682347</td>\n",
       "    </tr>\n",
       "    <tr>\n",
       "      <th>1</th>\n",
       "      <td>danceability</td>\n",
       "      <td>0.235537</td>\n",
       "    </tr>\n",
       "    <tr>\n",
       "      <th>7</th>\n",
       "      <td>valence</td>\n",
       "      <td>0.078845</td>\n",
       "    </tr>\n",
       "    <tr>\n",
       "      <th>6</th>\n",
       "      <td>tempo</td>\n",
       "      <td>0.003272</td>\n",
       "    </tr>\n",
       "    <tr>\n",
       "      <th>2</th>\n",
       "      <td>energy</td>\n",
       "      <td>0.000000</td>\n",
       "    </tr>\n",
       "    <tr>\n",
       "      <th>3</th>\n",
       "      <td>instrumentalness</td>\n",
       "      <td>0.000000</td>\n",
       "    </tr>\n",
       "    <tr>\n",
       "      <th>4</th>\n",
       "      <td>key</td>\n",
       "      <td>0.000000</td>\n",
       "    </tr>\n",
       "    <tr>\n",
       "      <th>5</th>\n",
       "      <td>mode</td>\n",
       "      <td>0.000000</td>\n",
       "    </tr>\n",
       "  </tbody>\n",
       "</table>\n",
       "</div>"
      ],
      "text/plain": [
       "               name       imp\n",
       "0      acousticness  0.682347\n",
       "1      danceability  0.235537\n",
       "7           valence  0.078845\n",
       "6             tempo  0.003272\n",
       "2            energy  0.000000\n",
       "3  instrumentalness  0.000000\n",
       "4               key  0.000000\n",
       "5              mode  0.000000"
      ]
     },
     "execution_count": 17,
     "metadata": {},
     "output_type": "execute_result"
    },
    {
     "data": {
      "image/png": "[encoded data removed]",
      "text/plain": [
       "<Figure size 432x288 with 1 Axes>"
      ]
     },
     "metadata": {},
     "output_type": "display_data"
    }
   ],
   "source": [
    "getFeatureImportancesByClass(df, 8, \"sad\")"
   ]
  },
  {
   "cell_type": "markdown",
   "id": "66d58590-fabb-4d3c-9daa-f2c6fd6c3824",
   "metadata": {},
   "source": [
    "## Final Results"
   ]
  },
  {
   "cell_type": "markdown",
   "id": "18f894b9-a2f7-4d16-8193-29173fefe7a6",
   "metadata": {},
   "source": [
    "Picking out the most important features for each mood and using the average (median) values for those features, we can summarize our findings as the following. (Unimportant features were ommited from the table.)"
   ]
  },
  {
   "cell_type": "markdown",
   "id": "3d4a5aae-bd6a-4238-81d4-29d3063763a7",
   "metadata": {},
   "source": [
    "| Feature | Angry | Neutral | Happy | Sad |\n",
    "| --- | --- | --- | --- | --- |\n",
    "| acousticness | 0.0609 |  |  | 0.3070 |\n",
    "| instrumentalness | 0 | 0.0173 |  |  |\n",
    "| danceability |  | 0.691 | 0.6525 | 0.5035 |\n",
    "| valence |  | 0.3270 | 0.6895 | 0.3070\n",
    "| tempo | | 116 | | |"
   ]
  },
  {
   "cell_type": "markdown",
   "id": "f82e2dbc-0dea-4094-a105-487e76b3e5bc",
   "metadata": {},
   "source": [
    "# Additional Data Analysis"
   ]
  },
  {
   "cell_type": "markdown",
   "id": "ae1278b1-2757-4f56-a90b-e96bbb05adcc",
   "metadata": {},
   "source": [
    "We were having difficulty getting reliable song recommendations for the \"angry\" mood, so we decided to do further data analysis to find maximum and minimum limits on the feature values as well. The distribution of the features for the \"angry\" mood are shown below."
   ]
  },
  {
   "cell_type": "code",
   "execution_count": 18,
   "id": "ced689a1-89fc-406a-9022-016dfbe10304",
   "metadata": {},
   "outputs": [],
   "source": [
    "import matplotlib.pyplot as plt\n",
    "%matplotlib inline\n",
    "plt.rcParams.update({'figure.figsize':(7,5), 'figure.dpi':100})"
   ]
  },
  {
   "cell_type": "code",
   "execution_count": 19,
   "id": "7f668bb5-a6b4-4be0-b8e5-6df400352245",
   "metadata": {},
   "outputs": [],
   "source": [
    "def plotHisto(mood, feature):\n",
    "    x = df[df[label] == mood][feature]\n",
    "    plt.hist(x, bins=50)\n",
    "    plt.gca().set(title=feature, ylabel=mood);"
   ]
  },
  {
   "cell_type": "code",
   "execution_count": 20,
   "id": "b8f91453-1c02-486d-97dd-51a2ac48201e",
   "metadata": {},
   "outputs": [
    {
     "data": {
      "image/png": "[encoded data removed]",
      "text/plain": [
       "<Figure size 700x500 with 1 Axes>"
      ]
     },
     "metadata": {
      "needs_background": "light"
     },
     "output_type": "display_data"
    }
   ],
   "source": [
    "plotHisto(\"angry\", \"acousticness\")"
   ]
  },
  {
   "cell_type": "code",
   "execution_count": 21,
   "id": "0d81a68b-9e38-46dd-b9cd-e19f9d37de5b",
   "metadata": {},
   "outputs": [
    {
     "data": {
      "image/png": "[encoded data removed]",
      "text/plain": [
       "<Figure size 700x500 with 1 Axes>"
      ]
     },
     "metadata": {
      "needs_background": "light"
     },
     "output_type": "display_data"
    }
   ],
   "source": [
    "plotHisto(\"angry\", \"instrumentalness\")"
   ]
  },
  {
   "cell_type": "code",
   "execution_count": 22,
   "id": "565a0b71-534e-4ae5-9094-f782e4442b96",
   "metadata": {},
   "outputs": [
    {
     "data": {
      "image/png": "[encoded data removed]",
      "text/plain": [
       "<Figure size 700x500 with 1 Axes>"
      ]
     },
     "metadata": {
      "needs_background": "light"
     },
     "output_type": "display_data"
    }
   ],
   "source": [
    "plotHisto(\"angry\", \"key\")"
   ]
  },
  {
   "cell_type": "code",
   "execution_count": 23,
   "id": "dd6426ec-9883-47db-a2da-67aa118b7bcb",
   "metadata": {},
   "outputs": [
    {
     "data": {
      "image/png": "[encoded data removed]",
      "text/plain": [
       "<Figure size 700x500 with 1 Axes>"
      ]
     },
     "metadata": {
      "needs_background": "light"
     },
     "output_type": "display_data"
    }
   ],
   "source": [
    "plotHisto(\"angry\", \"valence\")"
   ]
  },
  {
   "cell_type": "code",
   "execution_count": 24,
   "id": "c64e5548-ffde-4cd1-bebe-08c986f485ea",
   "metadata": {},
   "outputs": [
    {
     "data": {
      "image/png": "[encoded data removed]",
      "text/plain": [
       "<Figure size 700x500 with 1 Axes>"
      ]
     },
     "metadata": {
      "needs_background": "light"
     },
     "output_type": "display_data"
    }
   ],
   "source": [
    "plotHisto(\"angry\", \"danceability\")"
   ]
  },
  {
   "cell_type": "code",
   "execution_count": 25,
   "id": "4efa4c1b-fbd8-4371-a4eb-a8ba782b4c94",
   "metadata": {},
   "outputs": [
    {
     "data": {
      "image/png": "[encoded data removed]",
      "text/plain": [
       "<Figure size 700x500 with 1 Axes>"
      ]
     },
     "metadata": {
      "needs_background": "light"
     },
     "output_type": "display_data"
    }
   ],
   "source": [
    "plotHisto(\"angry\", \"energy\")"
   ]
  },
  {
   "cell_type": "code",
   "execution_count": 26,
   "id": "cbbdae91-f5df-4951-8235-e29ab03e791e",
   "metadata": {},
   "outputs": [
    {
     "data": {
      "image/png": "[encoded data removed]",
      "text/plain": [
       "<Figure size 700x500 with 1 Axes>"
      ]
     },
     "metadata": {
      "needs_background": "light"
     },
     "output_type": "display_data"
    }
   ],
   "source": [
    "plotHisto(\"angry\", \"mode\")"
   ]
  },
  {
   "cell_type": "code",
   "execution_count": 27,
   "id": "870eaa52-86ba-4520-8368-0d932d157619",
   "metadata": {},
   "outputs": [
    {
     "data": {
      "image/png": "[encoded data removed]",
      "text/plain": [
       "<Figure size 700x500 with 1 Axes>"
      ]
     },
     "metadata": {
      "needs_background": "light"
     },
     "output_type": "display_data"
    }
   ],
   "source": [
    "plotHisto(\"angry\", \"tempo\")"
   ]
  },
  {
   "cell_type": "markdown",
   "id": "6126dd1c-baee-4df0-8975-907220d920e2",
   "metadata": {},
   "source": [
    "# Model Training and Evalutation"
   ]
  },
  {
   "cell_type": "markdown",
   "id": "344d4676-e0b2-43c3-979c-414531126609",
   "metadata": {},
   "source": [
    "After testing multiple models, a Random Forest Regressor performed best. The training and tuning of hyperparameters are shown below."
   ]
  },
  {
   "cell_type": "code",
   "execution_count": 28,
   "id": "139c8a5e-9bf4-42b1-a951-fe8ba3f6eb60",
   "metadata": {},
   "outputs": [],
   "source": [
    "# Create labeled examples\n",
    "y = df[label]\n",
    "X = df.drop(columns=[label, 'tempo', 'key', 'mode', 'energy'], axis=1)\n",
    "\n",
    "# Split examples into training and test sets\n",
    "X_train, X_test, y_train, y_test = train_test_split(X, y, test_size=0.30, random_state=123)"
   ]
  },
  {
   "cell_type": "markdown",
   "id": "747cca14-8f2a-4349-a872-d787105c2413",
   "metadata": {},
   "source": [
    "The following cell may take a few minutes to run -- feel free to skip this cell when running and use the parameters in the second cell below."
   ]
  },
  {
   "cell_type": "code",
   "execution_count": 29,
   "id": "df065567-b02d-4163-8221-31e2553a1d2c",
   "metadata": {
    "tags": []
   },
   "outputs": [
    {
     "data": {
      "text/plain": [
       "{'criterion': 'entropy', 'max_depth': 5, 'n_estimators': 100}"
      ]
     },
     "execution_count": 29,
     "metadata": {},
     "output_type": "execute_result"
    }
   ],
   "source": [
    "rfc=RandomForestClassifier(random_state=123)\n",
    "param_grid = { \n",
    "    'n_estimators': [70, 80, 90, 100, 110, 120],\n",
    "    #'max_features': ['auto', 'sqrt', 'log2'],\n",
    "    'max_depth' : [2,3,4,5,6,7,8],\n",
    "    'criterion' :['gini', 'entropy']\n",
    "}\n",
    "CV_rfc = GridSearchCV(estimator=rfc, param_grid=param_grid, cv= 3)\n",
    "CV_rfc.fit(X_train, y_train)\n",
    "CV_rfc.best_params_"
   ]
  },
  {
   "cell_type": "code",
   "execution_count": 30,
   "id": "be3bd1ba-b184-478b-bb3b-146c3acef399",
   "metadata": {
    "tags": []
   },
   "outputs": [
    {
     "name": "stdout",
     "output_type": "stream",
     "text": [
      "[RF] Accuracy Score: 0.6484375\n"
     ]
    }
   ],
   "source": [
    "#Train best model\n",
    "rf_model=RandomForestClassifier(max_depth=5, n_estimators=100, random_state=123)\n",
    "rf_model.fit(X_train, y_train)\n",
    "\n",
    "#Evaluate best model\n",
    "rf_pred = rf_model.predict(X_test)\n",
    "rf_acc = accuracy_score(rf_pred, y_test)\n",
    "print('[RF] Accuracy Score: {0}'.format(rf_acc))"
   ]
  }
 ],
 "metadata": {
  "kernelspec": {
   "display_name": "Python 3 (ipykernel)",
   "language": "python",
   "name": "python3"
  },
  "language_info": {
   "codemirror_mode": {
    "name": "ipython",
    "version": 3
   },
   "file_extension": ".py",
   "mimetype": "text/x-python",
   "name": "python",
   "nbconvert_exporter": "python",
   "pygments_lexer": "ipython3",
   "version": "3.9.12"
  }
 },
 "nbformat": 4,
 "nbformat_minor": 5
}
